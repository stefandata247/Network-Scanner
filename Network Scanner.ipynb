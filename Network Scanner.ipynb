{
 "cells": [
  {
   "cell_type": "code",
   "execution_count": 19,
   "id": "e4c6a97f",
   "metadata": {},
   "outputs": [
    {
     "name": "stdout",
     "output_type": "stream",
     "text": [
      "Requirement already satisfied: scapy in ./anaconda3/lib/python3.11/site-packages (2.6.1)\n",
      "Note: you may need to restart the kernel to use updated packages.\n"
     ]
    }
   ],
   "source": [
    "pip install scapy"
   ]
  },
  {
   "cell_type": "code",
   "execution_count": 27,
   "id": "39b16601",
   "metadata": {},
   "outputs": [
    {
     "name": "stderr",
     "output_type": "stream",
     "text": [
      "usage: ipykernel_launcher.py [-h] [-t TARGET]\n",
      "ipykernel_launcher.py: error: unrecognized arguments: -f /Users/stefantinnin/Library/Jupyter/runtime/kernel-921fd22f-7e11-4960-a56e-51d3991b2399.json\n"
     ]
    },
    {
     "ename": "SystemExit",
     "evalue": "2",
     "output_type": "error",
     "traceback": [
      "An exception has occurred, use %tb to see the full traceback.\n",
      "\u001b[0;31mSystemExit\u001b[0m\u001b[0;31m:\u001b[0m 2\n"
     ]
    }
   ],
   "source": [
    "#!/usr/bin/env python\n",
    "import scapy.all as scapy\n",
    "import argparse\n",
    "\n",
    "def get_args():\n",
    "    parser=argparse.ArgumentParser()\n",
    "    parser.add_argument(\"-t\",\"--target\",dest=\"target\",help=\"Target IP/ IP range\")\n",
    "    options=parser.parse_args()\n",
    "    return options\n",
    "#allows for user console import\n",
    "def scan(ip):\n",
    "    arp_request=scapy.ARP(pdst=ip)\n",
    "    #creates a arp packet instance\n",
    "    #pdst labels the the ip we are looking for\n",
    "    broadcast=scapy.Ether(dst=\"ff:ff:ff:ff:ff:ff\")\n",
    "    #creates a ethernet object,sets destination MAC to broadcast MAC\n",
    "    #dst sets the broadcast MAC Address\n",
    "    arp_req_brd=broadcast/arp_request\n",
    "    #combines the broadcast and arp request\n",
    "    answered_list=scapy.srp(arp_req_brd,timeout=1, verbose=False)[0]\n",
    "    #gives the first element of the two lists which is the answered lsit\n",
    "    #Allows us to send packets with our own custom ether part\n",
    "    #verbose keyword removes unneccesary information\n",
    "\n",
    "    clients_list=[]\n",
    "    for element in answered_list:\n",
    "        client_dict={\"ip\":element[1].psrc,\"mac\":element[1].hwsrc}\n",
    "        #dict- stores the values in the answered_list to specific dictionary entries\n",
    "        clients_list.append(client_dict)\n",
    "        #psrc prints ip\n",
    "        #hwsrc prints MAC Address\n",
    "    return clients_list\n",
    "def printer(result_lists):\n",
    "    print(\"IP\\t\\t\\tMAC Address\\n-----------------------------------\")\n",
    "    for client in result_lists :\n",
    "        print(client[\"ip\"]+\"\\t\\t\"+client[\"mac\"])\n",
    "\n",
    "opts=get_args()\n",
    "scan_list=scan(opts.target)\n",
    "printer(scan_list)\n",
    "#this will search all ip's in the subnet"
   ]
  },
  {
   "cell_type": "code",
   "execution_count": null,
   "id": "2c0773e9",
   "metadata": {},
   "outputs": [],
   "source": []
  }
 ],
 "metadata": {
  "kernelspec": {
   "display_name": "Python 3 (ipykernel)",
   "language": "python",
   "name": "python3"
  },
  "language_info": {
   "codemirror_mode": {
    "name": "ipython",
    "version": 3
   },
   "file_extension": ".py",
   "mimetype": "text/x-python",
   "name": "python",
   "nbconvert_exporter": "python",
   "pygments_lexer": "ipython3",
   "version": "3.11.5"
  }
 },
 "nbformat": 4,
 "nbformat_minor": 5
}
